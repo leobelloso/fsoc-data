{
 "cells": [
  {
   "cell_type": "markdown",
   "id": "bde8c887",
   "metadata": {},
   "source": [
    "## Ejercicios Python"
   ]
  },
  {
   "cell_type": "markdown",
   "id": "50752ebb",
   "metadata": {},
   "source": [
    "### Ejercicio 1: Variables y Tipos de Datos"
   ]
  },
  {
   "cell_type": "code",
   "execution_count": 29,
   "id": "50a288f9",
   "metadata": {
    "scrolled": true
   },
   "outputs": [
    {
     "name": "stdout",
     "output_type": "stream",
     "text": [
      "A continuación, ingresa tu nombre...Leo\n",
      "Ahora ingresa tu edad...31\n",
      "Te llamás  Leo y tienes  31 años.\n"
     ]
    }
   ],
   "source": [
    "nombre = str(input(\"A continuación, ingresa tu nombre...\"))\n",
    "edad = int(input(\"Ahora ingresa tu edad...\"))\n",
    "\n",
    "print(\"Te llamás \",nombre, \"y tienes \",edad, \"años.\")"
   ]
  },
  {
   "cell_type": "markdown",
   "id": "9ed75d4d",
   "metadata": {},
   "source": [
    "### Ejercicio 2: Condicionales simples"
   ]
  },
  {
   "cell_type": "code",
   "execution_count": 32,
   "id": "f604acc0",
   "metadata": {
    "scrolled": true
   },
   "outputs": [
    {
     "name": "stdout",
     "output_type": "stream",
     "text": [
      "Por favor, ingresa un número... 21\n",
      "El número es positivo\n"
     ]
    }
   ],
   "source": [
    "nro = int(input(\"Por favor, ingresa un número... \"))\n",
    "\n",
    "if (nro < 0):\n",
    "    print(\"El número ingresado es negativo\")\n",
    "elif (nro == 0):\n",
    "        print(\"El número es neutro\")\n",
    "else:\n",
    "        print(\"El número es positivo\")"
   ]
  },
  {
   "cell_type": "markdown",
   "id": "0d018e51",
   "metadata": {},
   "source": [
    "### Ejercicio 3: Condicionales con if y else"
   ]
  },
  {
   "cell_type": "code",
   "execution_count": 36,
   "id": "e910872d",
   "metadata": {},
   "outputs": [
    {
     "name": "stdout",
     "output_type": "stream",
     "text": [
      "Ingrese el valor A... 5\n",
      "Ingrese el valor B... 1\n",
      "5  es mayor que  1\n"
     ]
    }
   ],
   "source": [
    "nroa = int(input(\"Ingrese el valor A... \"))\n",
    "nrob = int(input(\"Ingrese el valor B... \"))\n",
    "\n",
    "if (nroa > nrob):\n",
    "    print(nroa, \" es mayor que \", nrob)\n",
    "elif (nroa < nrob):\n",
    "    print(nrob, \"es mayor que \", nroa)\n",
    "else:\n",
    "    print(nroa, \"y\", nrob, \"son iguales.\")"
   ]
  },
  {
   "cell_type": "markdown",
   "id": "7c5e3142",
   "metadata": {},
   "source": [
    "### Ejercicio 4: Condicionales anidados"
   ]
  },
  {
   "cell_type": "code",
   "execution_count": 1,
   "id": "3b1b2a72",
   "metadata": {},
   "outputs": [
    {
     "name": "stdout",
     "output_type": "stream",
     "text": [
      "Ingrese su nota para obtener la calificación...90\n",
      "Su calificación es A\n"
     ]
    }
   ],
   "source": [
    "nota = int(input(\"Ingrese su nota para obtener la calificación...\"))\n",
    "\n",
    "if (nota >= 90):\n",
    "    print(\"Su calificación es A\")\n",
    "elif (nota >= 80):\n",
    "    print(\"Su calificación es B\")\n",
    "elif (nota >= 70):\n",
    "    print(\"Su calificación es C\")\n",
    "elif (nota >= 60):\n",
    "    print(\"Su calificación es D\")\n",
    "else:\n",
    "    print(\"Su calificación es F\")"
   ]
  },
  {
   "cell_type": "markdown",
   "id": "0598cb53",
   "metadata": {},
   "source": [
    "### Ejercicio 5: Arrays e Iteración"
   ]
  },
  {
   "cell_type": "markdown",
   "id": "369676db",
   "metadata": {},
   "source": [
    "**Array:** conjunto de elementos de un mismo tipo. El array almacena espacios contiguos en memoria.\n",
    "Puede pensarse como una lista de elementos.\n",
    "\n",
    "Un **ciclo iterativo** es un ciclo de repetición, un bucle que se repite siempre y cuando una condición sea verdadera y se rompe cuando esa condición se torna falsa o se indica una instrucción de ruptura de bucle.\n",
    "    "
   ]
  },
  {
   "cell_type": "code",
   "execution_count": null,
   "id": "8b58ff6f",
   "metadata": {},
   "outputs": [],
   "source": []
  }
 ],
 "metadata": {
  "kernelspec": {
   "display_name": "Python 3 (ipykernel)",
   "language": "python",
   "name": "python3"
  },
  "language_info": {
   "codemirror_mode": {
    "name": "ipython",
    "version": 3
   },
   "file_extension": ".py",
   "mimetype": "text/x-python",
   "name": "python",
   "nbconvert_exporter": "python",
   "pygments_lexer": "ipython3",
   "version": "3.11.5"
  }
 },
 "nbformat": 4,
 "nbformat_minor": 5
}
