{
 "cells": [
  {
   "cell_type": "markdown",
   "id": "8dab30d4",
   "metadata": {},
   "source": [
    "## VECTORES"
   ]
  },
  {
   "cell_type": "markdown",
   "id": "9063c7c3",
   "metadata": {},
   "source": [
    "#### Crea una lista con todas tus materias cursadas e iterala con un ciclo for imprimiendo un mensaje en pantalla"
   ]
  },
  {
   "cell_type": "code",
   "execution_count": 8,
   "id": "514b0af1",
   "metadata": {},
   "outputs": [
    {
     "data": {
      "text/plain": [
       "['Economía',\n",
       " 'Fundamentos de Ciencia Política',\n",
       " 'Teoría Política y Social I',\n",
       " 'Historia Contemporánea',\n",
       " 'Filosofía y Métodos',\n",
       " 'Teoría y Derecho Constitucional',\n",
       " 'Teoría Sociológica',\n",
       " 'Teoría Política y Social II',\n",
       " 'Filosofía',\n",
       " 'Teoría de las RRII',\n",
       " 'Teoría de la Investigación en CCSS',\n",
       " 'Historia Latinoamericana',\n",
       " 'Historia Argentina',\n",
       " 'Teoría Política Contemporánea',\n",
       " 'Sociología Política',\n",
       " 'Sistemas Políticos Comparados',\n",
       " 'Administración y Políticas Públicas',\n",
       " 'Opinión Pública',\n",
       " 'Optativa I',\n",
       " 'Optativa II',\n",
       " 'Optativa III',\n",
       " 'Optativa IV',\n",
       " 'Seminario I',\n",
       " 'Seminario II',\n",
       " 'Inglés I',\n",
       " 'Inglés II',\n",
       " 'Inglés III',\n",
       " 'Italiano I',\n",
       " 'Italiano II',\n",
       " 'Italiano III']"
      ]
     },
     "execution_count": 8,
     "metadata": {},
     "output_type": "execute_result"
    }
   ],
   "source": [
    "MATERIAS = [\"Economía\", \"Fundamentos de Ciencia Política\", \"Teoría Política y Social I\", \"Historia Contemporánea\",\n",
    "            \"Filosofía y Métodos\", \"Teoría y Derecho Constitucional\", \"Teoría Sociológica\", \"Teoría Política y Social II\", \n",
    "           \"Filosofía\", \"Teoría de las RRII\", \"Teoría de la Investigación en CCSS\", \"Historia Latinoamericana\", \"Historia Argentina\",\n",
    "           \"Teoría Política Contemporánea\", \"Sociología Política\", \"Sistemas Políticos Comparados\", \"Administración y Políticas Públicas\",\n",
    "           \"Opinión Pública\", \"Optativa I\", \"Optativa II\", \"Optativa III\", \"Optativa IV\", \"Seminario I\", \"Seminario II\",\n",
    "           \"Inglés I\", \"Inglés II\", \"Inglés III\", \"Italiano I\", \"Italiano II\", \"Italiano III\"]\n",
    "\n",
    "MATERIAS"
   ]
  },
  {
   "cell_type": "code",
   "execution_count": 9,
   "id": "053d834b",
   "metadata": {
    "scrolled": true
   },
   "outputs": [
    {
     "name": "stdout",
     "output_type": "stream",
     "text": [
      "1 Mi nombre es Leo y aprobé Economía\n",
      "2 Mi nombre es Leo y aprobé Fundamentos de Ciencia Política\n",
      "3 Mi nombre es Leo y aprobé Teoría Política y Social I\n",
      "4 Mi nombre es Leo y aprobé Historia Contemporánea\n",
      "5 Mi nombre es Leo y aprobé Filosofía y Métodos\n",
      "6 Mi nombre es Leo y aprobé Teoría y Derecho Constitucional\n",
      "7 Mi nombre es Leo y aprobé Teoría Sociológica\n",
      "8 Mi nombre es Leo y aprobé Teoría Política y Social II\n",
      "9 Mi nombre es Leo y aprobé Filosofía\n",
      "10 Mi nombre es Leo y aprobé Teoría de las RRII\n",
      "11 Mi nombre es Leo y aprobé Teoría de la Investigación en CCSS\n",
      "12 Mi nombre es Leo y aprobé Historia Latinoamericana\n",
      "13 Mi nombre es Leo y aprobé Historia Argentina\n",
      "14 Mi nombre es Leo y aprobé Teoría Política Contemporánea\n",
      "15 Mi nombre es Leo y aprobé Sociología Política\n",
      "16 Mi nombre es Leo y aprobé Sistemas Políticos Comparados\n",
      "17 Mi nombre es Leo y aprobé Administración y Políticas Públicas\n",
      "18 Mi nombre es Leo y aprobé Opinión Pública\n",
      "19 Mi nombre es Leo y aprobé Optativa I\n",
      "20 Mi nombre es Leo y aprobé Optativa II\n",
      "21 Mi nombre es Leo y aprobé Optativa III\n",
      "22 Mi nombre es Leo y aprobé Optativa IV\n",
      "23 Mi nombre es Leo y aprobé Seminario I\n",
      "24 Mi nombre es Leo y aprobé Seminario II\n",
      "25 Mi nombre es Leo y aprobé Inglés I\n",
      "26 Mi nombre es Leo y aprobé Inglés II\n",
      "27 Mi nombre es Leo y aprobé Inglés III\n",
      "28 Mi nombre es Leo y aprobé Italiano I\n",
      "29 Mi nombre es Leo y aprobé Italiano II\n",
      "30 Mi nombre es Leo y aprobé Italiano III\n"
     ]
    }
   ],
   "source": [
    "i = 1\n",
    "for x in MATERIAS:\n",
    "    print(i, \"Mi nombre es Leo y aprobé\", x)\n",
    "    i = i+1"
   ]
  },
  {
   "cell_type": "markdown",
   "id": "f66ca8f1",
   "metadata": {},
   "source": [
    "#### Suma de elementos: Crea una lista de números y escribe un programa que calcule la suma de todos los elementos en la lista."
   ]
  },
  {
   "cell_type": "code",
   "execution_count": 10,
   "id": "fc861e58",
   "metadata": {
    "scrolled": true
   },
   "outputs": [
    {
     "data": {
      "text/plain": [
       "[78, 31, 8, 2, 6, 37, 48, 10, 69, 25]"
      ]
     },
     "execution_count": 10,
     "metadata": {},
     "output_type": "execute_result"
    }
   ],
   "source": [
    "NUMEROS = [78, 31, 8, 2, 6, 37, 48, 10, 69, 25]\n",
    "NUMEROS"
   ]
  },
  {
   "cell_type": "code",
   "execution_count": 12,
   "id": "60f9ac87",
   "metadata": {},
   "outputs": [
    {
     "name": "stdout",
     "output_type": "stream",
     "text": [
      "La suma de todos los números de la lista es: 314\n"
     ]
    }
   ],
   "source": [
    "suma = 0\n",
    "\n",
    "for i in NUMEROS: \n",
    "    suma = suma + i\n",
    "    \n",
    "print(\"La suma de todos los números de la lista es:\", suma)"
   ]
  },
  {
   "cell_type": "markdown",
   "id": "bfa6c92a",
   "metadata": {},
   "source": [
    "### Buscar el máximo: Escribe un programa que encuentre el valor máximo en una lista de números."
   ]
  },
  {
   "cell_type": "code",
   "execution_count": 13,
   "id": "0bf1cabc",
   "metadata": {
    "scrolled": true
   },
   "outputs": [
    {
     "data": {
      "text/plain": [
       "78"
      ]
     },
     "execution_count": 13,
     "metadata": {},
     "output_type": "execute_result"
    }
   ],
   "source": [
    "max(NUMEROS) ## Hecho con función"
   ]
  },
  {
   "cell_type": "code",
   "execution_count": 14,
   "id": "7c2b6471",
   "metadata": {
    "scrolled": true
   },
   "outputs": [
    {
     "data": {
      "text/plain": [
       "[78, 31, 8, 2, 6, 37, 48, 10, 69, 25, 99]"
      ]
     },
     "execution_count": 14,
     "metadata": {},
     "output_type": "execute_result"
    }
   ],
   "source": [
    "NUMEROS.append(99) #Esto lo agregué para probar append y para asegurarme que estuviera recorriendo la lista pues,\n",
    "                   #mi máximo número estaba al principio\n",
    "NUMEROS"
   ]
  },
  {
   "cell_type": "code",
   "execution_count": 15,
   "id": "0a1d5f9a",
   "metadata": {},
   "outputs": [
    {
     "name": "stdout",
     "output_type": "stream",
     "text": [
      "99\n"
     ]
    }
   ],
   "source": [
    "## Hecho a lo gaucho\n",
    "\n",
    "maximo = 0\n",
    "\n",
    "for i in NUMEROS:\n",
    "    if maximo < i:\n",
    "        maximo = i\n",
    "\n",
    "print(maximo)"
   ]
  },
  {
   "cell_type": "markdown",
   "id": "579223f3",
   "metadata": {},
   "source": [
    "### Crea un programa que calcule el promedio de todos los elementos de un vector."
   ]
  },
  {
   "cell_type": "code",
   "execution_count": 16,
   "id": "92329fed",
   "metadata": {
    "scrolled": true
   },
   "outputs": [
    {
     "name": "stdout",
     "output_type": "stream",
     "text": [
      "37.54545454545455\n",
      "El promedio de la lista de números es: 37.55\n"
     ]
    }
   ],
   "source": [
    "# Con funciones:\n",
    "\n",
    "import statistics\n",
    "print(statistics.mean(NUMEROS))\n",
    "\n",
    "# A lo gaucho:\n",
    "\n",
    "suma = 0\n",
    "\n",
    "for i in NUMEROS:\n",
    "    suma = suma+i\n",
    "    \n",
    "print(\"El promedio de la lista de números es:\", round(suma/len(NUMEROS), 2))\n"
   ]
  },
  {
   "cell_type": "markdown",
   "id": "35c1db63",
   "metadata": {},
   "source": [
    "## DICCIONARIOS"
   ]
  },
  {
   "cell_type": "markdown",
   "id": "57e2cc86",
   "metadata": {},
   "source": [
    "### Registro de estudiantes:\n",
    "##### Crea un diccionario en el que las claves sean los nombres de los estudiantes y los valores sean sus calificaciones. Luego, escribe un programa que permita al usuario buscar la calificación de un estudiante por su nombre."
   ]
  },
  {
   "cell_type": "code",
   "execution_count": 17,
   "id": "8fec9469",
   "metadata": {
    "scrolled": true
   },
   "outputs": [
    {
     "name": "stdout",
     "output_type": "stream",
     "text": [
      "Ingrese el nombre del estudiante para conocer su calificación:jimena\n",
      "La calificación de  jimena es  87\n",
      "¿Desea ingresar otro estudiante? s/ns\n",
      "Ingrese el nombre del estudiante para conocer su calificación:esteban\n",
      "La calificación de  esteban es  5\n",
      "¿Desea ingresar otro estudiante? s/nn\n"
     ]
    }
   ],
   "source": [
    "ESTUDIANTES = {\n",
    "    'juan' : 93, \n",
    "    'martina' : 75, \n",
    "    'eric' : 91, \n",
    "    'jimena' : 87,\n",
    "    'marcelo' : 54,\n",
    "    'cecilia' : 58, \n",
    "    'gaston' : 10,\n",
    "    'sofia' : 26,\n",
    "    'esteban' : 5,\n",
    "    'romina' : 30\n",
    "}\n",
    "\n",
    "continuar = 'y'\n",
    "\n",
    "while continuar != 'n' and continuar != 'N':\n",
    "    \n",
    "    alumno = str(input('Ingrese el nombre del estudiante para conocer su calificación:'))\n",
    "    print('La calificación de ', alumno, 'es ', ESTUDIANTES[alumno])\n",
    "    \n",
    "    continuar = str(input('¿Desea ingresar otro estudiante? s/n'))"
   ]
  },
  {
   "cell_type": "markdown",
   "id": "88f81d8e",
   "metadata": {},
   "source": [
    "### Crea un diccionario que contenga tu nombre, edad, hobbies, y toda la información que consideres relevante para presentarte en el curso"
   ]
  },
  {
   "cell_type": "code",
   "execution_count": 27,
   "id": "4da030a7",
   "metadata": {
    "scrolled": true
   },
   "outputs": [],
   "source": [
    "YO = {\n",
    "    \n",
    "    'nombre' : 'Leonardo',\n",
    "    'edad' : 31,\n",
    "    'profesion' : 'Politólogo 👨‍💼',\n",
    "    'trabajo' : 'Municipalidad de Zárate 🏛', \n",
    "    'HOBBIES' : ['Gaming 🎮', 'Ciclismo 🚴‍♂️', 'Leer 📚', 'Cine 🎥', 'Reparar cosas 🔧'],\n",
    "    'INTERESES': ['Tecnología', 'Gobierno Electrónico', 'Modernización del Estado']\n",
    "    \n",
    "}"
   ]
  },
  {
   "cell_type": "code",
   "execution_count": 36,
   "id": "a045be78",
   "metadata": {},
   "outputs": [
    {
     "name": "stdout",
     "output_type": "stream",
     "text": [
      "Mi nombre es Leonardo  y tengo 31 años.\n",
      "Soy Politólogo 👨‍💼 y trabajo en la Municipalidad de Zárate 🏛 .\n",
      "\n",
      "Mis hobbies son: \n",
      "Gaming 🎮\n",
      "Ciclismo 🚴‍♂️\n",
      "Leer 📚\n",
      "Cine 🎥\n",
      "Reparar cosas 🔧\n",
      "\n",
      "Y mis intereses estos:\n",
      "Tecnología\n",
      "Gobierno Electrónico\n",
      "Modernización del Estado\n"
     ]
    }
   ],
   "source": [
    "print('Mi nombre es', YO['nombre'],' y tengo', YO['edad'], 'años.\\nSoy', YO['profesion'], 'y trabajo en la', YO['trabajo'], '.\\n' )\n",
    "\n",
    "print('Mis hobbies son: ')\n",
    "\n",
    "for x in YO['HOBBIES']:\n",
    "    print(x)\n",
    "    \n",
    "print('\\nY mis intereses estos:')\n",
    "\n",
    "for x in YO['INTERESES']:\n",
    "    print(x)"
   ]
  },
  {
   "cell_type": "markdown",
   "id": "7aabc59b",
   "metadata": {},
   "source": [
    "### Contar elementos: Crea un diccionario que represente una bolsa con diferentes tipos de frutas y la cantidad de cada tipo de fruta en la bolsa. Escribe un programa que cuente cuántas frutas hay en total."
   ]
  },
  {
   "cell_type": "code",
   "execution_count": 44,
   "id": "8f8a3358",
   "metadata": {},
   "outputs": [],
   "source": [
    "BOLSA = {\n",
    "    \n",
    "    'palta' : 2,\n",
    "    'frutilla' : 3,\n",
    "    'manzana' : 5,\n",
    "    'cereza' : 7,\n",
    "    'naranja' : 2,\n",
    "    'ananá' : 2,\n",
    "    'pera' : 7,\n",
    "    'banana' : 9,\n",
    "    'coco' : 3,\n",
    "    'sandía' : 2\n",
    "}"
   ]
  },
  {
   "cell_type": "code",
   "execution_count": 60,
   "id": "d68e868b",
   "metadata": {},
   "outputs": [
    {
     "name": "stdout",
     "output_type": "stream",
     "text": [
      "La cantidad total de las frutas en la bolsa es:  42\n"
     ]
    }
   ],
   "source": [
    "suma = 0\n",
    "\n",
    "for i in BOLSA:\n",
    "    suma = suma + BOLSA[i]\n",
    "    \n",
    "print('La cantidad total de las frutas en la bolsa es: ', suma)"
   ]
  }
 ],
 "metadata": {
  "kernelspec": {
   "display_name": "Python 3 (ipykernel)",
   "language": "python",
   "name": "python3"
  },
  "language_info": {
   "codemirror_mode": {
    "name": "ipython",
    "version": 3
   },
   "file_extension": ".py",
   "mimetype": "text/x-python",
   "name": "python",
   "nbconvert_exporter": "python",
   "pygments_lexer": "ipython3",
   "version": "3.11.5"
  }
 },
 "nbformat": 4,
 "nbformat_minor": 5
}
